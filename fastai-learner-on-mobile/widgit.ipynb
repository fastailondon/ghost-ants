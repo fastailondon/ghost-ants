{
 "cells": [
  {
   "cell_type": "code",
   "execution_count": null,
   "metadata": {},
   "outputs": [],
   "source": [
    "import io\n",
    "from typing import Dict\n",
    "from pathlib import Path\n",
    "from pprint import pprint\n",
    "\n",
    "from IPython.display import clear_output, display, display_markdown\n",
    "from ipywidgets import FileUpload, Layout, Output\n",
    "from fastai.vision import load_learner, Image, open_image"
   ]
  },
  {
   "cell_type": "code",
   "execution_count": null,
   "metadata": {},
   "outputs": [],
   "source": [
    "layout = Layout(width=\"100%\", min_height=\"180px\", align=\"center\")"
   ]
  },
  {
   "cell_type": "code",
   "execution_count": null,
   "metadata": {},
   "outputs": [],
   "source": [
    "v = FileUpload(multiple=False, accept=\"image/*\", layout=layout)"
   ]
  },
  {
   "cell_type": "code",
   "execution_count": null,
   "metadata": {},
   "outputs": [],
   "source": [
    "o = Output()"
   ]
  },
  {
   "cell_type": "code",
   "execution_count": null,
   "metadata": {},
   "outputs": [],
   "source": [
    "def my_transform(x):\n",
    "    x.data = 1 - x.data\n",
    "    return x\n",
    "\n",
    "\n",
    "learner_path = Path(\"~/.fastai/data/mnist_png\").expanduser()\n",
    "l = load_learner(learner_path)"
   ]
  },
  {
   "cell_type": "code",
   "execution_count": null,
   "metadata": {},
   "outputs": [],
   "source": [
    "def predict(i: Image) -> Dict:\n",
    "    cat, _, probs  = l.predict(i)\n",
    "    return {\n",
    "        'category': cat.obj,\n",
    "        'confidence': probs.numpy().round(4)[_]\n",
    "    }"
   ]
  },
  {
   "cell_type": "code",
   "execution_count": null,
   "metadata": {},
   "outputs": [],
   "source": [
    "def _handle_upload(change):\n",
    "    [upload] = change[\"new\"].values()\n",
    "    stream = io.BytesIO(upload[\"content\"])\n",
    "    image = open_image(stream).apply_tfms(None, size=128)\n",
    "    p = predict(image)\n",
    "    with o:\n",
    "        clear_output()\n",
    "        display_markdown(f\"# {str(p)}\", raw=True)\n",
    "        display(image)"
   ]
  },
  {
   "cell_type": "code",
   "execution_count": null,
   "metadata": {},
   "outputs": [],
   "source": [
    "v.observe(_handle_upload, \"value\")"
   ]
  },
  {
   "cell_type": "code",
   "execution_count": null,
   "metadata": {},
   "outputs": [
    {
     "data": {
      "application/vnd.jupyter.widget-view+json": {
       "model_id": "d8a31a8df08842968874479aaf2cb276",
       "version_major": 2,
       "version_minor": 0
      },
      "text/plain": [
       "FileUpload(value={}, accept='image/*', description='Upload', layout=Layout(min_height='180px', width='100%'))"
      ]
     },
     "metadata": {},
     "output_type": "display_data"
    },
    {
     "data": {
      "application/vnd.jupyter.widget-view+json": {
       "model_id": "3e0977df191543a5ba565f740451edc7",
       "version_major": 2,
       "version_minor": 0
      },
      "text/plain": [
       "Output()"
      ]
     },
     "metadata": {},
     "output_type": "display_data"
    }
   ],
   "source": [
    "display(v)\n",
    "display(o)"
   ]
  },
  {
   "cell_type": "code",
   "execution_count": null,
   "metadata": {},
   "outputs": [],
   "source": []
  }
 ],
 "metadata": {
  "kernelspec": {
   "display_name": "Python 3",
   "language": "python",
   "name": "python3"
  }
 },
 "nbformat": 4,
 "nbformat_minor": 4
}
