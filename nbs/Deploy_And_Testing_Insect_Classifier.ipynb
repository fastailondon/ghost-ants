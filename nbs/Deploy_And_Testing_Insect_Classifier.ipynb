{
 "cells": [
  {
   "cell_type": "code",
   "execution_count": null,
   "metadata": {},
   "outputs": [],
   "source": [
    "from fastai.vision import *"
   ]
  },
  {
   "cell_type": "markdown",
   "metadata": {},
   "source": [
    "## Enable ipywidgets on Jupyter Notebook\n",
    "\n",
    "```\n",
    "pip install ipywidgets\n",
    "jupyter nbextension enable --py widgetsnbextension\n",
    "```\n",
    "\n",
    "More info at https://ipywidgets.readthedocs.io/en/stable/\n"
   ]
  },
  {
   "cell_type": "markdown",
   "metadata": {},
   "source": [
    "## Load pretrained model"
   ]
  },
  {
   "cell_type": "code",
   "execution_count": null,
   "metadata": {},
   "outputs": [],
   "source": [
    "learn = load_learner(Path('../datasets/insects'))"
   ]
  },
  {
   "cell_type": "markdown",
   "metadata": {},
   "source": [
    "### Upload image"
   ]
  },
  {
   "cell_type": "code",
   "execution_count": null,
   "metadata": {},
   "outputs": [
    {
     "data": {
      "application/vnd.jupyter.widget-view+json": {
       "model_id": "cbed8354a9444461b921bbce928fc99a",
       "version_major": 2,
       "version_minor": 0
      },
      "text/plain": [
       "FileUpload(value={}, description='Upload')"
      ]
     },
     "metadata": {},
     "output_type": "display_data"
    }
   ],
   "source": [
    "import ipywidgets as widgets\n",
    "uploader = widgets.FileUpload()\n",
    "display(uploader)"
   ]
  },
  {
   "cell_type": "code",
   "execution_count": null,
   "metadata": {},
   "outputs": [
    {
     "name": "stdout",
     "output_type": "stream",
     "text": [
      "Reading uploaded file  paper-wasp-no-text.jpg\n"
     ]
    },
    {
     "data": {
      "application/vnd.jupyter.widget-view+json": {
       "model_id": "3228c584a27941edb2b2b47ad5926d41",
       "version_major": 2,
       "version_minor": 0
      },
      "text/plain": [
       "Image(value=b'\\xff\\xd8\\xff\\xe0\\x00\\x10JFIF\\x00\\x01\\x01\\x01\\x00\\xf0\\x00\\xf0\\x00\\x00\\xff\\xdb\\x00C\\x00\\x0c\\x08\\t\\…"
      ]
     },
     "metadata": {},
     "output_type": "display_data"
    }
   ],
   "source": [
    "# Show image uploaded\n",
    "[uploaded_filename] = uploader.value\n",
    "print(\"Reading uploaded file \",uploaded_filename)\n",
    "\n",
    "widgets.Image(\n",
    "        value=uploader.value[uploaded_filename][\"content\"],\n",
    "        format='png',\n",
    "        width=300,\n",
    "        height=400,\n",
    "    )"
   ]
  },
  {
   "cell_type": "markdown",
   "metadata": {},
   "source": [
    "## Predict image class"
   ]
  },
  {
   "cell_type": "code",
   "execution_count": null,
   "metadata": {},
   "outputs": [
    {
     "name": "stdout",
     "output_type": "stream",
     "text": [
      "PREDICTED CLASS  wasp\n"
     ]
    }
   ],
   "source": [
    "                                                            import tempfile\n",
    "# # create a temporary file and write some data to it\n",
    "with tempfile.TemporaryFile() as fp:\n",
    "    fp.write(uploader.value[uploaded_filename][\"content\"])\n",
    "    img = open_image(fp)\n",
    "    \n",
    "    pred_class,pred_idx,outputs = learn.predict(img)\n",
    "    print(\"PREDICTED CLASS \", pred_class)"
   ]
  }
 ],
 "metadata": {
  "kernelspec": {
   "display_name": "Python 3.6.7 64-bit ('3.6.7': pyenv)",
   "language": "python",
   "name": "python36764bit367pyenv6a0da5db90264a1183b46a3e44d1ac34"
  }
 },
 "nbformat": 4,
 "nbformat_minor": 4
}
