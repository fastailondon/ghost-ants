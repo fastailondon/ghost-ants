{
 "cells": [
  {
   "cell_type": "markdown",
   "metadata": {},
   "source": [
    "# Goal of this notebook\n",
    "Without ever having to read a single tweet, we want to be able to know how the general sentiment in the fanbase of a team throughout the year 2019. <br>\n",
    "In order to be able to do this we need:\n",
    "#### Models:\n",
    "- A language model, thatunderstands how a language is structured and will understand context\n",
    "- A classifier: another model that labels each tweet as either positive or negative\n",
    "\n",
    "#### Datset:\n",
    "- Tweets from each NBA team throughout the year 2019\n",
    "- Tweets that are already labelled as positive or negative to train (&test) our classifier on\n",
    "\n",
    "# Approach\n",
    "Using the [twitterscraper library](https://pypi.org/project/twitterscraper/0.2.7/) I downloaded over 250k tweets with about 9k per team which were all tweeted throughout the year 2019.\n",
    "This will be the dataset we later predict on for which we currently don't have any positive or negative labels.<br>\n",
    "As training set for our classifier we will use the [sentiment140](https://www.kaggle.com/kazanova/sentiment140) dataset which has 1.6 million labelled tweets."
   ]
  },
  {
   "cell_type": "code",
   "execution_count": 1,
   "metadata": {},
   "outputs": [],
   "source": [
    "%reload_ext autoreload\n",
    "%autoreload 2\n",
    "%matplotlib inline\n",
    "\n",
    "from fastai.text import *\n",
    "import os\n",
    "import time"
   ]
  },
  {
   "cell_type": "markdown",
   "metadata": {},
   "source": [
    "### Preprocessing tweets\n",
    "I ran the scraping commands from the terminal which left me with a JSON file for each time, which in the following code cell were just concatenated into one large dataframe. We also only keep the timestamp and text, which are the only columns of interest to us for this project."
   ]
  },
  {
   "cell_type": "code",
   "execution_count": 3,
   "metadata": {},
   "outputs": [],
   "source": [
    "json_files = [file for file in os.listdir() if file.endswith('json')]\n",
    "json_files\n",
    "\n",
    "df_list = []\n",
    "\n",
    "for filestring in json_files:\n",
    "    with open(filestring) as json_file:\n",
    "        data = (pd.DataFrame(json.load(json_file))[['timestamp', 'text']]\n",
    "                                .assign(team=filestring.split('.json')[0]))\n",
    "\n",
    "        df_list.append(data)\n",
    "\n",
    "df = pd.concat(df_list)\n",
    "df.to_csv('team_tweets.csv')"
   ]
  },
  {
   "cell_type": "markdown",
   "metadata": {},
   "source": [
    "## The first stage: The language model\n",
    "A language model essentially is a model that is trying to predict the next word in a sentence. This model will automatically learn the structure of a language. A good language model for example will use the correct pronouns based on whether names in the sentence are male or female. <br>\n",
    "In other words, the language model learns quite a lot about the concept of a language which is an important part of understanding the general mood behind a statement.<br>\n",
    "Therefore it will be incredibly useful as a starting point for our classifier.\n",
    "\n",
    "In this special case, where our training set for the classifier is going to be a different corpus than our corpus that we will predict on (sentiment140 vs. my scraped NBA tweets), it seems to be best idea to mix both datasets into our language model. Therefore we will feed 125,000 tweets of each dataset into the model. The number is chosen kind of arbitrarily, but mostly for the purpose of the model to fit quickly.\n",
    "It's also important to know, that we just built on a model, that is already part of the fastai library and was trained on the [WikiText103](https://blog.einstein.ai/the-wikitext-long-term-dependency-language-modeling-dataset/) dataset, which is a huge subset of Wikipedia articles. So the model already knows quite a lot but then gets additional input from our tweets, which will retrain its final layers a bit."
   ]
  },
  {
   "cell_type": "code",
   "execution_count": 5,
   "metadata": {},
   "outputs": [],
   "source": [
    "path = Path(os.getcwd())\n",
    "nba_tweets = (pd.read_csv('team_tweets.csv', engine='python')\n",
    "              .dropna()\n",
    "              .sample(125000, random_state=1)\n",
    "              .reset_index(drop=True).drop(['index'], axis=1))"
   ]
  },
  {
   "cell_type": "code",
   "execution_count": 6,
   "metadata": {},
   "outputs": [],
   "source": [
    "# !kaggle datasets download -d kazanova/sentiment140\n",
    "# !unzip sentiment140.zip -d {os.getcwd()}\n",
    "encoding = 'ISO-8859-1'\n",
    "col_names = ['target', 'id', 'date', 'flag', 'user', 'text']\n",
    "twitter_sent = pd.read_csv(path/'training.1600000.processed.noemoticon.csv', \n",
    "                           encoding=encoding,\n",
    "                           low_memory=False, \n",
    "                           names=col_names)[['target', 'text']].dropna().sample(125000, random_state=1)"
   ]
  },
  {
   "cell_type": "code",
   "execution_count": 8,
   "metadata": {},
   "outputs": [],
   "source": [
    "df = pd.concat([nba_tweets.assign(target=0)[['target', 'text']],\n",
    "                twitter_sent]).reset_index(drop=True)\n",
    "training_sample = df.sample(frac=0.9).index"
   ]
  },
  {
   "cell_type": "code",
   "execution_count": 11,
   "metadata": {
    "scrolled": true
   },
   "outputs": [
    {
     "data": {
      "text/html": [
       "<table border=\"1\" class=\"dataframe\">\n",
       "  <thead>\n",
       "    <tr style=\"text-align: right;\">\n",
       "      <th>idx</th>\n",
       "      <th>text</th>\n",
       "    </tr>\n",
       "  </thead>\n",
       "  <tbody>\n",
       "    <tr>\n",
       "      <td>0</td>\n",
       "      <td>he ’s the goat xxbos @silver_craig hey xxunk ! i 'm back from xxmaj italy . xxbos does n't want to go back to work tomorrow xxbos &amp; ' xxmaj the man who ca n't be moved &amp; ' - xxmaj the xxmaj script xxbos i had better go to bed if i 'm going to school tomorrow . xxmaj good xxmaj night everyone xo xxbos @utahjazz i 'm thinking</td>\n",
       "    </tr>\n",
       "    <tr>\n",
       "      <td>1</td>\n",
       "      <td>xxmaj reuters   … xxbos xxmaj finished xxmaj halo xxmaj wars . xxmaj sadly there was no ending xxunk race . xxbos @dwyanewade xxmaj happy 37th xxmaj birthday young dawg glad to see you play tomorrow against my xxmaj detroit xxmaj pistons but good luck hopefully i can get the game jersey # onelastdance # idol xxbos i just attempted to watch the xxmaj clippers game tonight against xxmaj utah</td>\n",
       "    </tr>\n",
       "    <tr>\n",
       "      <td>2</td>\n",
       "      <td>xxmaj jokic 's xxup dgaf level , and xxmaj denver 's depth . \\n \\n   … xxbos xxmaj maybe there 4th at best xxunk if you disagree its pure nonsense xxbos @ddlovato bride wars is n't embarassing ! we 're girls , we 're allowed to watch chick flicks , cry , and wish to get married at the plaza hotel ! xxbos xxmaj indiana xxmaj pacers tickets are</td>\n",
       "    </tr>\n",
       "    <tr>\n",
       "      <td>3</td>\n",
       "      <td>xxmaj forcier has been hired as an assistant coach with the xxmaj milwaukee xxmaj bucks . xxmaj back with xxmaj coach xxmaj bud ! # xxunk xxbos i 'm being drowned by the xxunk of a big white cat . xxmaj help me xxmaj help me ! xxbos xxmaj report : xxmaj kyrie xxmaj irving to miss first game in xxmaj boston since leaving xxmaj celtics   pic.twitter.com / xxunk</td>\n",
       "    </tr>\n",
       "    <tr>\n",
       "      <td>4</td>\n",
       "      <td>hard enough to hang out with you . because i 'd really like to . a lot xxbos xxmaj great team effort xxbos xxmaj so happy for xxmaj aron xxmaj baynes , he deserves all the credit . \\n \\n  xxmaj now imagine this xxmaj celtics team with xxmaj baynes on it . xxmaj sheeesh . xxmaj but the reality is that xxmaj boston had to part ways with</td>\n",
       "    </tr>\n",
       "  </tbody>\n",
       "</table>"
      ],
      "text/plain": [
       "<IPython.core.display.HTML object>"
      ]
     },
     "metadata": {},
     "output_type": "display_data"
    }
   ],
   "source": [
    "# creating the databunch for the language model. This automatically produces a vocabulary, which we will later\n",
    "# see again in the classifier\n",
    "data_lm = TextLMDataBunch.from_df(path, train_df=df.loc[training_sample], \n",
    "                               valid_df=df.drop(training_sample))\n",
    "data_lm.show_batch()"
   ]
  },
  {
   "cell_type": "code",
   "execution_count": 12,
   "metadata": {},
   "outputs": [],
   "source": [
    "learn = language_model_learner(data_lm, AWD_LSTM, drop_mult=0.3)"
   ]
  },
  {
   "cell_type": "code",
   "execution_count": 13,
   "metadata": {},
   "outputs": [
    {
     "data": {
      "text/html": [
       "\n",
       "    <div>\n",
       "        <style>\n",
       "            /* Turns off some styling */\n",
       "            progress {\n",
       "                /* gets rid of default border in Firefox and Opera. */\n",
       "                border: none;\n",
       "                /* Needs to be in here for Safari polyfill so background images work as expected. */\n",
       "                background-size: auto;\n",
       "            }\n",
       "            .progress-bar-interrupted, .progress-bar-interrupted::-webkit-progress-bar {\n",
       "                background: #F44336;\n",
       "            }\n",
       "        </style>\n",
       "      <progress value='0' class='' max='1', style='width:300px; height:20px; vertical-align: middle;'></progress>\n",
       "      0.00% [0/1 00:00<00:00]\n",
       "    </div>\n",
       "    \n",
       "<table border=\"1\" class=\"dataframe\">\n",
       "  <thead>\n",
       "    <tr style=\"text-align: left;\">\n",
       "      <th>epoch</th>\n",
       "      <th>train_loss</th>\n",
       "      <th>valid_loss</th>\n",
       "      <th>accuracy</th>\n",
       "      <th>time</th>\n",
       "    </tr>\n",
       "  </thead>\n",
       "  <tbody>\n",
       "  </tbody>\n",
       "</table><p>\n",
       "\n",
       "    <div>\n",
       "        <style>\n",
       "            /* Turns off some styling */\n",
       "            progress {\n",
       "                /* gets rid of default border in Firefox and Opera. */\n",
       "                border: none;\n",
       "                /* Needs to be in here for Safari polyfill so background images work as expected. */\n",
       "                background-size: auto;\n",
       "            }\n",
       "            .progress-bar-interrupted, .progress-bar-interrupted::-webkit-progress-bar {\n",
       "                background: #F44336;\n",
       "            }\n",
       "        </style>\n",
       "      <progress value='99' class='' max='1355', style='width:300px; height:20px; vertical-align: middle;'></progress>\n",
       "      7.31% [99/1355 00:22<04:41 11.0291]\n",
       "    </div>\n",
       "    "
      ],
      "text/plain": [
       "<IPython.core.display.HTML object>"
      ]
     },
     "metadata": {},
     "output_type": "display_data"
    },
    {
     "name": "stdout",
     "output_type": "stream",
     "text": [
      "LR Finder is complete, type {learner_name}.recorder.plot() to see the graph.\n"
     ]
    },
    {
     "data": {
      "image/png": "[encoded data removed]",
      "text/plain": [
       "<Figure size 432x288 with 1 Axes>"
      ]
     },
     "metadata": {
      "needs_background": "light"
     },
     "output_type": "display_data"
    }
   ],
   "source": [
    "learn.lr_find() # find learning rate\n",
    "learn.recorder.plot() # plot learning rate graph"
   ]
  },
  {
   "cell_type": "code",
   "execution_count": 14,
   "metadata": {},
   "outputs": [
    {
     "data": {
      "text/html": [
       "<table border=\"1\" class=\"dataframe\">\n",
       "  <thead>\n",
       "    <tr style=\"text-align: left;\">\n",
       "      <th>epoch</th>\n",
       "      <th>train_loss</th>\n",
       "      <th>valid_loss</th>\n",
       "      <th>accuracy</th>\n",
       "      <th>time</th>\n",
       "    </tr>\n",
       "  </thead>\n",
       "  <tbody>\n",
       "    <tr>\n",
       "      <td>0</td>\n",
       "      <td>4.091238</td>\n",
       "      <td>3.881938</td>\n",
       "      <td>0.325186</td>\n",
       "      <td>05:10</td>\n",
       "    </tr>\n",
       "    <tr>\n",
       "      <td>1</td>\n",
       "      <td>3.837670</td>\n",
       "      <td>3.773503</td>\n",
       "      <td>0.337266</td>\n",
       "      <td>05:10</td>\n",
       "    </tr>\n",
       "  </tbody>\n",
       "</table>"
      ],
      "text/plain": [
       "<IPython.core.display.HTML object>"
      ]
     },
     "metadata": {},
     "output_type": "display_data"
    }
   ],
   "source": [
    "learn.fit_one_cycle(2, 1e-2, moms=(0.8,0.7))"
   ]
  },
  {
   "cell_type": "code",
   "execution_count": 15,
   "metadata": {},
   "outputs": [],
   "source": [
    "learn.save('language_model')\n",
    "learn.load('language_model')"
   ]
  },
  {
   "cell_type": "code",
   "execution_count": 17,
   "metadata": {},
   "outputs": [],
   "source": [
    "learn.unfreeze()"
   ]
  },
  {
   "cell_type": "code",
   "execution_count": 18,
   "metadata": {},
   "outputs": [
    {
     "data": {
      "text/html": [
       "<table border=\"1\" class=\"dataframe\">\n",
       "  <thead>\n",
       "    <tr style=\"text-align: left;\">\n",
       "      <th>epoch</th>\n",
       "      <th>train_loss</th>\n",
       "      <th>valid_loss</th>\n",
       "      <th>accuracy</th>\n",
       "      <th>time</th>\n",
       "    </tr>\n",
       "  </thead>\n",
       "  <tbody>\n",
       "    <tr>\n",
       "      <td>0</td>\n",
       "      <td>3.542131</td>\n",
       "      <td>3.576930</td>\n",
       "      <td>0.361807</td>\n",
       "      <td>05:13</td>\n",
       "    </tr>\n",
       "    <tr>\n",
       "      <td>1</td>\n",
       "      <td>3.421527</td>\n",
       "      <td>3.526504</td>\n",
       "      <td>0.369241</td>\n",
       "      <td>05:13</td>\n",
       "    </tr>\n",
       "  </tbody>\n",
       "</table>"
      ],
      "text/plain": [
       "<IPython.core.display.HTML object>"
      ]
     },
     "metadata": {},
     "output_type": "display_data"
    }
   ],
   "source": [
    "learn.fit_one_cycle(2, 1e-3, moms=(0.8,0.7))"
   ]
  },
  {
   "cell_type": "markdown",
   "metadata": {},
   "source": [
    "We could probably train the model a bit more, but a ~37% accuracy for predicting the next word in the sentence, when there are over 20k words to choose from, is definitely sufficient for our purpose.<br>\n",
    "We only need the encoder of the model, which is basically just a mathematical representation of the language. The second part of the model, the decoder, is mostly used for applying that mathematical representation to try to predict the next word in a given sentence.<br>\n",
    "In order to check out how well our model works, besides just looking at the accuracy metric, we can let it do exactly that. Give it a few words and see whether the model generates sensible sentences."
   ]
  },
  {
   "cell_type": "code",
   "execution_count": 19,
   "metadata": {},
   "outputs": [],
   "source": [
    "learn.save('fine_tuned_lm')"
   ]
  },
  {
   "cell_type": "code",
   "execution_count": 1,
   "metadata": {},
   "outputs": [],
   "source": [
    "learn.load('fine_tuned_lm')"
   ]
  },
  {
   "cell_type": "code",
   "execution_count": 22,
   "metadata": {},
   "outputs": [],
   "source": [
    "learn.save_encoder('fine_tuned_enc')"
   ]
  },
  {
   "cell_type": "code",
   "execution_count": 23,
   "metadata": {},
   "outputs": [],
   "source": [
    "# export model to have it saved forevz\n",
    "learn.export()\n",
    "# learn = load_learner(path=path, file='trained_on_50k.pkl')"
   ]
  },
  {
   "cell_type": "code",
   "execution_count": 25,
   "metadata": {},
   "outputs": [
    {
     "name": "stdout",
     "output_type": "stream",
     "text": [
      "Emily is the greatest tourist in the world xxbos So nice to see Kevin Durant play xxbos Finally going to sleep . Contemplating the day ! xxbos With the 9th pick in the 2018 NBA Draft\n",
      "\n",
      "Emily is the greatest Chicago girl ever . xxbos Well , you knew what you meant for Cleveland . What ’s wrong with your comments ? Because you ’re talking about the Wizards . Fuck Scott\n",
      "\n",
      "Emily is the greatest woman to be a xxbos Great game for James Harden and the Houston Rockets . \n",
      " \n",
      "  We have a confirmed dead - 142 OT loss to Houston Rockets . #\n",
      "\n",
      "Emily is the greatest NBA player in Chicago Bulls history . She will be in a 62 million dollar Chicago Bulls jersey . She is the better player in the world and i will be happy for\n",
      "\n",
      "Emily is the greatest Sacramento Kings player of all time . ( via @raptorsrapture )   … xxbos Just turned the Golden State Warriors into a conference finals xxbos Happy Sunday ! ! ! Enjoy\n"
     ]
    }
   ],
   "source": [
    "TEXT = \"Emily is the greatest\"\n",
    "N_WORDS = 40\n",
    "N_SENTENCES = 5\n",
    "print(\"\\n\\n\".join(learn.predict(TEXT, N_WORDS, temperature=0.75) for _ in range(N_SENTENCES)))"
   ]
  },
  {
   "cell_type": "markdown",
   "metadata": {},
   "source": [
    "...aaand it seems to work quite well! Two things are especially cool to see for me:\n",
    "1) It's a nice mix between general babble regarding the NBA (greatest tourist in the world / greatest NBA player in Chicago Bulls history)\n",
    "2) The model gets the pronouns right. I ran some other sentences with male/female names and the model almost always got the pronouns in the sentences correct.\n",
    "\n",
    "## Train the classifier\n",
    "Now that we have a language model we can build our classifier on top of it. For that we will use the vocab from the previously created databunch, our labelled dataset and the encoder of our language model.\n"
   ]
  },
  {
   "cell_type": "code",
   "execution_count": 26,
   "metadata": {},
   "outputs": [
    {
     "data": {
      "text/html": [],
      "text/plain": [
       "<IPython.core.display.HTML object>"
      ]
     },
     "metadata": {},
     "output_type": "display_data"
    },
    {
     "data": {
      "text/html": [],
      "text/plain": [
       "<IPython.core.display.HTML object>"
      ]
     },
     "metadata": {},
     "output_type": "display_data"
    }
   ],
   "source": [
    "data_clas = (TextList.from_df(twitter_sent, cols='text', vocab=data_lm.vocab)\n",
    " .split_by_rand_pct(0.2)\n",
    " .label_from_df('target')\n",
    " .databunch())"
   ]
  },
  {
   "cell_type": "code",
   "execution_count": 27,
   "metadata": {},
   "outputs": [
    {
     "data": {
      "text/html": [
       "<table border=\"1\" class=\"dataframe\">\n",
       "  <thead>\n",
       "    <tr style=\"text-align: right;\">\n",
       "      <th>text</th>\n",
       "      <th>target</th>\n",
       "    </tr>\n",
       "  </thead>\n",
       "  <tbody>\n",
       "    <tr>\n",
       "      <td>xxbos lol xxup re - xxup pu - b - l - i - xxup can xxup the xxup demo - c - xxup xxunk xxup tho ;-) xxup thx xxup just - xxup us lol xxup all xxunk xxup wfg xxup thor - xxup tee - y xxup de - xxup luxe - xxup ey ;-) xxup spd xxup xxunk / xxup csu b - xxup xxunk xxup fdp</td>\n",
       "      <td>4</td>\n",
       "    </tr>\n",
       "    <tr>\n",
       "      <td>xxbos # seb - day # seb - day # seb - day # seb - day # seb - day # seb - day # seb - day # seb - day # seb - day # seb - day # seb - day # seb - day # seb - day # seb - day # seb - day</td>\n",
       "      <td>4</td>\n",
       "    </tr>\n",
       "    <tr>\n",
       "      <td>xxbos xxup toothache xxup still xxup present , 13 xxup days xxup til i xxup can xxup have xxup another xxup glass xxup of xxup wine , xxup or a xxup beer xxup if i xxup choose . 15 xxup days xxup til i xxup visit xxup vv ... 17 xxup days xxup no xxup jen</td>\n",
       "      <td>0</td>\n",
       "    </tr>\n",
       "    <tr>\n",
       "      <td>xxbos xxmaj had a xxmaj lovely xxmaj evening xxmaj last xxmaj night ! ! xxmaj ca nt xxmaj wait xxmaj to xxmaj see xxmaj some xxmaj one xxmaj special ! ! xxmaj has xxmaj work 12 - 8 xxmaj ca nt xxmaj wait xxmaj to xxmaj go xxmaj holiday xxmaj shopping ! ! ! xoxoxox</td>\n",
       "      <td>0</td>\n",
       "    </tr>\n",
       "    <tr>\n",
       "      <td>xxbos xxmaj best of xxmaj youtube : xxup the xxup birds &amp; &amp; xxup the xxup bees : xxup the xxup birds &amp; &amp; xxup the xxup bees xxup subscirb xxrep 4 e &amp; &amp; leave a comment / make a video te http : / / is.gd / xxunk</td>\n",
       "      <td>4</td>\n",
       "    </tr>\n",
       "  </tbody>\n",
       "</table>"
      ],
      "text/plain": [
       "<IPython.core.display.HTML object>"
      ]
     },
     "metadata": {},
     "output_type": "display_data"
    }
   ],
   "source": [
    "data_clas.show_batch(5)"
   ]
  },
  {
   "cell_type": "code",
   "execution_count": 28,
   "metadata": {},
   "outputs": [
    {
     "data": {
      "text/plain": [
       "RNNLearner(data=TextClasDataBunch;\n",
       "\n",
       "Train: LabelList (100000 items)\n",
       "x: TextList\n",
       "xxbos i miss nikki nu nu already she s always there when needed thank u xxx,xxbos xxmaj so i had a dream last night . i remember a sign which clearly told me where to get a job . i ca n't xxunk what the sign said .,xxbos xxunk ohh poor sickly you ( ( ( hugs ) ) hope you feel a little better soon,xxbos it is raining again,xxbos @misskeribaby wish i was in xxup la right now\n",
       "y: CategoryList\n",
       "0,0,0,0,0\n",
       "Path: .;\n",
       "\n",
       "Valid: LabelList (25000 items)\n",
       "x: TextList\n",
       "xxbos xxmaj annoyed that i saw great buys but did n't make any purchases,xxbos @juanbarnard hehehe i was not joking ! halo is on now ! !,xxbos i just got an ipod touch going outside for a while,xxbos @cinemabizarre http : / / twitpic.com / xxunk - i want this album ! ! ! in my country .. do not sell the disks !,xxbos @kattpackallday but xxup nc be da shit doe ... xxrep 4 & i put dat xxmaj on my mama\n",
       "y: CategoryList\n",
       "0,4,4,0,4\n",
       "Path: .;\n",
       "\n",
       "Test: None, model=SequentialRNN(\n",
       "  (0): MultiBatchEncoder(\n",
       "    (module): AWD_LSTM(\n",
       "      (encoder): Embedding(52640, 400, padding_idx=1)\n",
       "      (encoder_dp): EmbeddingDropout(\n",
       "        (emb): Embedding(52640, 400, padding_idx=1)\n",
       "      )\n",
       "      (rnns): ModuleList(\n",
       "        (0): WeightDropout(\n",
       "          (module): LSTM(400, 1152, batch_first=True)\n",
       "        )\n",
       "        (1): WeightDropout(\n",
       "          (module): LSTM(1152, 1152, batch_first=True)\n",
       "        )\n",
       "        (2): WeightDropout(\n",
       "          (module): LSTM(1152, 400, batch_first=True)\n",
       "        )\n",
       "      )\n",
       "      (input_dp): RNNDropout()\n",
       "      (hidden_dps): ModuleList(\n",
       "        (0): RNNDropout()\n",
       "        (1): RNNDropout()\n",
       "        (2): RNNDropout()\n",
       "      )\n",
       "    )\n",
       "  )\n",
       "  (1): PoolingLinearClassifier(\n",
       "    (layers): Sequential(\n",
       "      (0): BatchNorm1d(1200, eps=1e-05, momentum=0.1, affine=True, track_running_stats=True)\n",
       "      (1): Dropout(p=0.2, inplace=False)\n",
       "      (2): Linear(in_features=1200, out_features=50, bias=True)\n",
       "      (3): ReLU(inplace=True)\n",
       "      (4): BatchNorm1d(50, eps=1e-05, momentum=0.1, affine=True, track_running_stats=True)\n",
       "      (5): Dropout(p=0.1, inplace=False)\n",
       "      (6): Linear(in_features=50, out_features=2, bias=True)\n",
       "    )\n",
       "  )\n",
       "), opt_func=functools.partial(<class 'torch.optim.adam.Adam'>, betas=(0.9, 0.99)), loss_func=FlattenedLoss of CrossEntropyLoss(), metrics=[<function accuracy at 0x7f323fbce710>], true_wd=True, bn_wd=True, wd=0.01, train_bn=True, path=PosixPath('.'), model_dir='models', callback_fns=[functools.partial(<class 'fastai.basic_train.Recorder'>, add_time=True, silent=False)], callbacks=[RNNTrainer\n",
       "learn: ...\n",
       "alpha: 2.0\n",
       "beta: 1.0], layer_groups=[Sequential(\n",
       "  (0): Embedding(52640, 400, padding_idx=1)\n",
       "  (1): EmbeddingDropout(\n",
       "    (emb): Embedding(52640, 400, padding_idx=1)\n",
       "  )\n",
       "), Sequential(\n",
       "  (0): WeightDropout(\n",
       "    (module): LSTM(400, 1152, batch_first=True)\n",
       "  )\n",
       "  (1): RNNDropout()\n",
       "), Sequential(\n",
       "  (0): WeightDropout(\n",
       "    (module): LSTM(1152, 1152, batch_first=True)\n",
       "  )\n",
       "  (1): RNNDropout()\n",
       "), Sequential(\n",
       "  (0): WeightDropout(\n",
       "    (module): LSTM(1152, 400, batch_first=True)\n",
       "  )\n",
       "  (1): RNNDropout()\n",
       "), Sequential(\n",
       "  (0): PoolingLinearClassifier(\n",
       "    (layers): Sequential(\n",
       "      (0): BatchNorm1d(1200, eps=1e-05, momentum=0.1, affine=True, track_running_stats=True)\n",
       "      (1): Dropout(p=0.2, inplace=False)\n",
       "      (2): Linear(in_features=1200, out_features=50, bias=True)\n",
       "      (3): ReLU(inplace=True)\n",
       "      (4): BatchNorm1d(50, eps=1e-05, momentum=0.1, affine=True, track_running_stats=True)\n",
       "      (5): Dropout(p=0.1, inplace=False)\n",
       "      (6): Linear(in_features=50, out_features=2, bias=True)\n",
       "    )\n",
       "  )\n",
       ")], add_time=True, silent=False)"
      ]
     },
     "execution_count": 28,
     "metadata": {},
     "output_type": "execute_result"
    }
   ],
   "source": [
    "learn = text_classifier_learner(data_clas, AWD_LSTM, drop_mult=0.5)\n",
    "learn.load_encoder('fine_tuned_enc')"
   ]
  },
  {
   "cell_type": "code",
   "execution_count": 29,
   "metadata": {},
   "outputs": [
    {
     "data": {
      "text/html": [
       "\n",
       "    <div>\n",
       "        <style>\n",
       "            /* Turns off some styling */\n",
       "            progress {\n",
       "                /* gets rid of default border in Firefox and Opera. */\n",
       "                border: none;\n",
       "                /* Needs to be in here for Safari polyfill so background images work as expected. */\n",
       "                background-size: auto;\n",
       "            }\n",
       "            .progress-bar-interrupted, .progress-bar-interrupted::-webkit-progress-bar {\n",
       "                background: #F44336;\n",
       "            }\n",
       "        </style>\n",
       "      <progress value='0' class='' max='1', style='width:300px; height:20px; vertical-align: middle;'></progress>\n",
       "      0.00% [0/1 00:00<00:00]\n",
       "    </div>\n",
       "    \n",
       "<table border=\"1\" class=\"dataframe\">\n",
       "  <thead>\n",
       "    <tr style=\"text-align: left;\">\n",
       "      <th>epoch</th>\n",
       "      <th>train_loss</th>\n",
       "      <th>valid_loss</th>\n",
       "      <th>accuracy</th>\n",
       "      <th>time</th>\n",
       "    </tr>\n",
       "  </thead>\n",
       "  <tbody>\n",
       "  </tbody>\n",
       "</table><p>\n",
       "\n",
       "    <div>\n",
       "        <style>\n",
       "            /* Turns off some styling */\n",
       "            progress {\n",
       "                /* gets rid of default border in Firefox and Opera. */\n",
       "                border: none;\n",
       "                /* Needs to be in here for Safari polyfill so background images work as expected. */\n",
       "                background-size: auto;\n",
       "            }\n",
       "            .progress-bar-interrupted, .progress-bar-interrupted::-webkit-progress-bar {\n",
       "                background: #F44336;\n",
       "            }\n",
       "        </style>\n",
       "      <progress value='94' class='' max='1562', style='width:300px; height:20px; vertical-align: middle;'></progress>\n",
       "      6.02% [94/1562 00:07<01:50 2.0313]\n",
       "    </div>\n",
       "    "
      ],
      "text/plain": [
       "<IPython.core.display.HTML object>"
      ]
     },
     "metadata": {},
     "output_type": "display_data"
    },
    {
     "name": "stdout",
     "output_type": "stream",
     "text": [
      "LR Finder is complete, type {learner_name}.recorder.plot() to see the graph.\n"
     ]
    },
    {
     "data": {
      "image/png": "[encoded data removed]",
      "text/plain": [
       "<Figure size 432x288 with 1 Axes>"
      ]
     },
     "metadata": {
      "needs_background": "light"
     },
     "output_type": "display_data"
    }
   ],
   "source": [
    "learn.lr_find()\n",
    "learn.recorder.plot()"
   ]
  },
  {
   "cell_type": "code",
   "execution_count": 30,
   "metadata": {},
   "outputs": [
    {
     "data": {
      "text/html": [
       "<table border=\"1\" class=\"dataframe\">\n",
       "  <thead>\n",
       "    <tr style=\"text-align: left;\">\n",
       "      <th>epoch</th>\n",
       "      <th>train_loss</th>\n",
       "      <th>valid_loss</th>\n",
       "      <th>accuracy</th>\n",
       "      <th>time</th>\n",
       "    </tr>\n",
       "  </thead>\n",
       "  <tbody>\n",
       "    <tr>\n",
       "      <td>0</td>\n",
       "      <td>0.544355</td>\n",
       "      <td>0.498253</td>\n",
       "      <td>0.755560</td>\n",
       "      <td>01:11</td>\n",
       "    </tr>\n",
       "  </tbody>\n",
       "</table>"
      ],
      "text/plain": [
       "<IPython.core.display.HTML object>"
      ]
     },
     "metadata": {},
     "output_type": "display_data"
    }
   ],
   "source": [
    "learn.fit_one_cycle(1, 1e-03, moms=(0.8,0.7))"
   ]
  },
  {
   "cell_type": "code",
   "execution_count": 31,
   "metadata": {},
   "outputs": [
    {
     "data": {
      "text/html": [
       "<table border=\"1\" class=\"dataframe\">\n",
       "  <thead>\n",
       "    <tr style=\"text-align: left;\">\n",
       "      <th>epoch</th>\n",
       "      <th>train_loss</th>\n",
       "      <th>valid_loss</th>\n",
       "      <th>accuracy</th>\n",
       "      <th>time</th>\n",
       "    </tr>\n",
       "  </thead>\n",
       "  <tbody>\n",
       "    <tr>\n",
       "      <td>0</td>\n",
       "      <td>0.504515</td>\n",
       "      <td>0.465929</td>\n",
       "      <td>0.777600</td>\n",
       "      <td>01:10</td>\n",
       "    </tr>\n",
       "  </tbody>\n",
       "</table>"
      ],
      "text/plain": [
       "<IPython.core.display.HTML object>"
      ]
     },
     "metadata": {},
     "output_type": "display_data"
    }
   ],
   "source": [
    "learn.freeze_to(-2)\n",
    "learn.fit_one_cycle(1, slice(1e-03/(2.6**4),1e-03), moms=(0.8,0.7))"
   ]
  },
  {
   "cell_type": "code",
   "execution_count": 32,
   "metadata": {},
   "outputs": [
    {
     "data": {
      "text/html": [
       "<table border=\"1\" class=\"dataframe\">\n",
       "  <thead>\n",
       "    <tr style=\"text-align: left;\">\n",
       "      <th>epoch</th>\n",
       "      <th>train_loss</th>\n",
       "      <th>valid_loss</th>\n",
       "      <th>accuracy</th>\n",
       "      <th>time</th>\n",
       "    </tr>\n",
       "  </thead>\n",
       "  <tbody>\n",
       "    <tr>\n",
       "      <td>0</td>\n",
       "      <td>0.478471</td>\n",
       "      <td>0.431738</td>\n",
       "      <td>0.801080</td>\n",
       "      <td>01:13</td>\n",
       "    </tr>\n",
       "    <tr>\n",
       "      <td>1</td>\n",
       "      <td>0.426770</td>\n",
       "      <td>0.399976</td>\n",
       "      <td>0.817400</td>\n",
       "      <td>01:06</td>\n",
       "    </tr>\n",
       "    <tr>\n",
       "      <td>2</td>\n",
       "      <td>0.379781</td>\n",
       "      <td>0.391577</td>\n",
       "      <td>0.820560</td>\n",
       "      <td>01:11</td>\n",
       "    </tr>\n",
       "  </tbody>\n",
       "</table>"
      ],
      "text/plain": [
       "<IPython.core.display.HTML object>"
      ]
     },
     "metadata": {},
     "output_type": "display_data"
    }
   ],
   "source": [
    "learn.freeze_to(-3)\n",
    "learn.fit_one_cycle(3, slice(5e-03/(2.6**4),5e-03), moms=(0.8,0.7))"
   ]
  },
  {
   "cell_type": "code",
   "execution_count": 35,
   "metadata": {},
   "outputs": [
    {
     "data": {
      "text/html": [
       "<table border=\"1\" class=\"dataframe\">\n",
       "  <thead>\n",
       "    <tr style=\"text-align: left;\">\n",
       "      <th>epoch</th>\n",
       "      <th>train_loss</th>\n",
       "      <th>valid_loss</th>\n",
       "      <th>accuracy</th>\n",
       "      <th>time</th>\n",
       "    </tr>\n",
       "  </thead>\n",
       "  <tbody>\n",
       "    <tr>\n",
       "      <td>0</td>\n",
       "      <td>0.334869</td>\n",
       "      <td>0.392459</td>\n",
       "      <td>0.823960</td>\n",
       "      <td>01:17</td>\n",
       "    </tr>\n",
       "    <tr>\n",
       "      <td>1</td>\n",
       "      <td>0.340859</td>\n",
       "      <td>0.390590</td>\n",
       "      <td>0.823640</td>\n",
       "      <td>01:22</td>\n",
       "    </tr>\n",
       "    <tr>\n",
       "      <td>2</td>\n",
       "      <td>0.356315</td>\n",
       "      <td>0.392238</td>\n",
       "      <td>0.824000</td>\n",
       "      <td>01:13</td>\n",
       "    </tr>\n",
       "    <tr>\n",
       "      <td>3</td>\n",
       "      <td>0.347060</td>\n",
       "      <td>0.393220</td>\n",
       "      <td>0.824280</td>\n",
       "      <td>01:15</td>\n",
       "    </tr>\n",
       "    <tr>\n",
       "      <td>4</td>\n",
       "      <td>0.329250</td>\n",
       "      <td>0.396836</td>\n",
       "      <td>0.823440</td>\n",
       "      <td>01:16</td>\n",
       "    </tr>\n",
       "    <tr>\n",
       "      <td>5</td>\n",
       "      <td>0.326283</td>\n",
       "      <td>0.396551</td>\n",
       "      <td>0.824840</td>\n",
       "      <td>01:14</td>\n",
       "    </tr>\n",
       "    <tr>\n",
       "      <td>6</td>\n",
       "      <td>0.297403</td>\n",
       "      <td>0.404612</td>\n",
       "      <td>0.825560</td>\n",
       "      <td>01:13</td>\n",
       "    </tr>\n",
       "    <tr>\n",
       "      <td>7</td>\n",
       "      <td>0.290198</td>\n",
       "      <td>0.401946</td>\n",
       "      <td>0.825480</td>\n",
       "      <td>01:13</td>\n",
       "    </tr>\n",
       "    <tr>\n",
       "      <td>8</td>\n",
       "      <td>0.295075</td>\n",
       "      <td>0.410358</td>\n",
       "      <td>0.824960</td>\n",
       "      <td>01:21</td>\n",
       "    </tr>\n",
       "    <tr>\n",
       "      <td>9</td>\n",
       "      <td>0.288201</td>\n",
       "      <td>0.406411</td>\n",
       "      <td>0.824360</td>\n",
       "      <td>01:20</td>\n",
       "    </tr>\n",
       "    <tr>\n",
       "      <td>10</td>\n",
       "      <td>0.285830</td>\n",
       "      <td>0.410560</td>\n",
       "      <td>0.826360</td>\n",
       "      <td>01:19</td>\n",
       "    </tr>\n",
       "    <tr>\n",
       "      <td>11</td>\n",
       "      <td>0.297650</td>\n",
       "      <td>0.411362</td>\n",
       "      <td>0.825000</td>\n",
       "      <td>01:17</td>\n",
       "    </tr>\n",
       "  </tbody>\n",
       "</table>"
      ],
      "text/plain": [
       "<IPython.core.display.HTML object>"
      ]
     },
     "metadata": {},
     "output_type": "display_data"
    }
   ],
   "source": [
    "learn.unfreeze()\n",
    "learn.fit_one_cycle(12, slice(5e-04/(2.6**4),5e-04), moms=(0.8,0.7))"
   ]
  },
  {
   "cell_type": "markdown",
   "metadata": {},
   "source": [
    "## Model performance\n",
    "\n",
    "The accuracy seems to plateau at about 82.5%, which is decent enough. \n",
    "It's important to point out that the underlying dataset is automatically labelled, solely based on the emojis used. We might get some better results when using datasets which are labelled by humans.<br>\n",
    "This should be good enough however to score all the NBA tweets, which is done in the code cells below.<br>\n",
    "The exploratory analysis of the sentiment for each team can be found in the notebook \"nba_exploratory_analysis\"."
   ]
  },
  {
   "cell_type": "code",
   "execution_count": 38,
   "metadata": {},
   "outputs": [],
   "source": [
    "learn.export()"
   ]
  },
  {
   "cell_type": "code",
   "execution_count": 65,
   "metadata": {
    "scrolled": false
   },
   "outputs": [
    {
     "data": {
      "text/plain": [
       "(Category 4, tensor(1), tensor([0.0090, 0.9910]))"
      ]
     },
     "execution_count": 65,
     "metadata": {},
     "output_type": "execute_result"
    }
   ],
   "source": [
    "# learn = load_learner(path=path, file='trained_on_50k.pkl')\n",
    "learn.predict(\"This is amazing\")"
   ]
  },
  {
   "cell_type": "code",
   "execution_count": 90,
   "metadata": {},
   "outputs": [],
   "source": [
    "all_nba = (pd.read_csv('team_tweets.csv', engine='python')\n",
    "              .dropna()\n",
    "              .reset_index(drop=True).drop(['index'], axis=1))\n",
    "\n",
    "data_clas.add_test(all_nba)"
   ]
  },
  {
   "cell_type": "code",
   "execution_count": 81,
   "metadata": {},
   "outputs": [
    {
     "data": {
      "text/html": [],
      "text/plain": [
       "<IPython.core.display.HTML object>"
      ]
     },
     "metadata": {},
     "output_type": "display_data"
    },
    {
     "name": "stdout",
     "output_type": "stream",
     "text": [
      "It took ~3.23 minutes to score all 254624 tweets.\n"
     ]
    }
   ],
   "source": [
    "start = time.time()\n",
    "predictions, _ = learn.get_preds(ds_type=DatasetType.Test)\n",
    "end = time.time()\n",
    "print(f'It took ~{(end-start)/60:.2f} minutes to score all {all_nba.shape[0]} tweets.')"
   ]
  },
  {
   "cell_type": "code",
   "execution_count": 92,
   "metadata": {},
   "outputs": [],
   "source": [
    "output_df = all_nba.join(pd.DataFrame(np.array(predictions), \n",
    "                         columns=['probability_negative', 'probability_positive']))"
   ]
  },
  {
   "cell_type": "code",
   "execution_count": 95,
   "metadata": {},
   "outputs": [],
   "source": [
    "output_df.to_csv('tweets_scored.csv.csv', index=False)"
   ]
  }
 ],
 "metadata": {
  "kernelspec": {
   "display_name": "Python 3",
   "language": "python",
   "name": "python3"
  },
  "language_info": {
   "codemirror_mode": {
    "name": "ipython",
    "version": 3
   },
   "file_extension": ".py",
   "mimetype": "text/x-python",
   "name": "python",
   "nbconvert_exporter": "python",
   "pygments_lexer": "ipython3",
   "version": "3.7.3"
  }
 },
 "nbformat": 4,
 "nbformat_minor": 4
}
